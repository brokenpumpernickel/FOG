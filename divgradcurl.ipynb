{
 "cells": [
  {
   "cell_type": "code",
   "execution_count": 7,
   "metadata": {},
   "outputs": [],
   "source": [
    "import numpy as np\n",
    "import matplotlib.pyplot as plt\n",
    "import ipywidgets as widgets"
   ]
  },
  {
   "cell_type": "markdown",
   "metadata": {},
   "source": [
    "# Gradient"
   ]
  },
  {
   "cell_type": "code",
   "execution_count": 8,
   "metadata": {},
   "outputs": [
    {
     "data": {
      "application/vnd.jupyter.widget-view+json": {
       "model_id": "2c02ea571bb14577b0bbd519ba2ef1ed",
       "version_major": 2,
       "version_minor": 0
      },
      "text/plain": [
       "interactive(children=(ToggleButton(value=False, description='Show gradient'), Output()), _dom_classes=('widget…"
      ]
     },
     "metadata": {},
     "output_type": "display_data"
    },
    {
     "data": {
      "text/plain": [
       "<function __main__.plot_field(display_gradient)>"
      ]
     },
     "execution_count": 8,
     "metadata": {},
     "output_type": "execute_result"
    }
   ],
   "source": [
    "x = np.linspace(-5, 5, 100)\n",
    "y = np.linspace(-5, 5, 100)\n",
    "\n",
    "X, Y = np.meshgrid(x, y)\n",
    "\n",
    "def fun(X, Y):\n",
    "    return X**2 + Y**2\n",
    "\n",
    "Z = fun(X, Y)\n",
    "\n",
    "xa = np.linspace(-5, 5, 30)\n",
    "ya = np.linspace(-5, 5, 30)\n",
    "\n",
    "XA, YA = np.meshgrid(xa, ya)\n",
    "\n",
    "def grad(X, Y, fun):\n",
    "    return ((fun(X + 0.01, Y) - fun(X, Y)) / 0.01, (fun(X, Y + 0.01) - fun(X, Y)) / 0.01)\n",
    "\n",
    "U, V = grad(XA, YA, fun)\n",
    "\n",
    "def plot_field(display_gradient):\n",
    "    plt.figure(figsize = (20, 20))\n",
    "    plt.pcolor(X, Y, Z, cmap = 'inferno', shading='auto')\n",
    "    if display_gradient:\n",
    "        plt.quiver(XA, YA, U, V, color = 'white')\n",
    "\n",
    "widgets.interact(plot_field, display_gradient = widgets.ToggleButton(description='Show gradient'))"
   ]
  },
  {
   "cell_type": "code",
   "execution_count": 9,
   "metadata": {},
   "outputs": [
    {
     "data": {
      "application/vnd.jupyter.widget-view+json": {
       "model_id": "bc6f5fe095ef4064b7c8ef2dc3158247",
       "version_major": 2,
       "version_minor": 0
      },
      "text/plain": [
       "interactive(children=(ToggleButton(value=False, description='Show gradient'), Output()), _dom_classes=('widget…"
      ]
     },
     "metadata": {},
     "output_type": "display_data"
    },
    {
     "data": {
      "text/plain": [
       "<function __main__.plot_field(display_gradient)>"
      ]
     },
     "execution_count": 9,
     "metadata": {},
     "output_type": "execute_result"
    }
   ],
   "source": [
    "x = np.linspace(-5, 5, 100)\n",
    "y = np.linspace(-5, 5, 100)\n",
    "\n",
    "X, Y = np.meshgrid(x, y)\n",
    "\n",
    "def fun(X, Y):\n",
    "    return -X**2 + -Y**2\n",
    "\n",
    "Z = fun(X, Y)\n",
    "\n",
    "xa = np.linspace(-5, 5, 30)\n",
    "ya = np.linspace(-5, 5, 30)\n",
    "\n",
    "XA, YA = np.meshgrid(xa, ya)\n",
    "\n",
    "def grad(X, Y, fun):\n",
    "    return ((fun(X + 0.01, Y) - fun(X, Y)) / 0.01, (fun(X, Y + 0.01) - fun(X, Y)) / 0.01)\n",
    "\n",
    "U, V = grad(XA, YA, fun)\n",
    "\n",
    "def plot_field(display_gradient):\n",
    "    plt.figure(figsize = (20, 20))\n",
    "    plt.pcolor(X, Y, Z, cmap = 'inferno', shading='auto')\n",
    "    if display_gradient:\n",
    "        plt.quiver(XA, YA, U, V, color = 'white')\n",
    "\n",
    "widgets.interact(plot_field, display_gradient = widgets.ToggleButton(description='Show gradient'))"
   ]
  },
  {
   "cell_type": "code",
   "execution_count": 10,
   "metadata": {},
   "outputs": [
    {
     "data": {
      "application/vnd.jupyter.widget-view+json": {
       "model_id": "874b67ff41b040ada8c624a8ce3c1631",
       "version_major": 2,
       "version_minor": 0
      },
      "text/plain": [
       "interactive(children=(ToggleButton(value=False, description='Show gradient'), Output()), _dom_classes=('widget…"
      ]
     },
     "metadata": {},
     "output_type": "display_data"
    },
    {
     "data": {
      "text/plain": [
       "<function __main__.plot_field(display_gradient)>"
      ]
     },
     "execution_count": 10,
     "metadata": {},
     "output_type": "execute_result"
    }
   ],
   "source": [
    "x = np.linspace(-5, 5, 100)\n",
    "y = np.linspace(-5, 5, 100)\n",
    "\n",
    "X, Y = np.meshgrid(x, y)\n",
    "\n",
    "def fun(X, Y):\n",
    "    return np.sin(X) * np.sin(Y) * np.exp(-0.05 * (X**2 + Y**2))\n",
    "\n",
    "Z = fun(X, Y)\n",
    "\n",
    "xa = np.linspace(-5, 5, 30)\n",
    "ya = np.linspace(-5, 5, 30)\n",
    "\n",
    "XA, YA = np.meshgrid(xa, ya)\n",
    "\n",
    "def grad(X, Y, fun):\n",
    "    return ((fun(X + 0.01, Y) - fun(X, Y)) / 0.01, (fun(X, Y + 0.01) - fun(X, Y)) / 0.01)\n",
    "\n",
    "U, V = grad(XA, YA, fun)\n",
    "\n",
    "def plot_field(display_gradient):\n",
    "    plt.figure(figsize = (20, 20))\n",
    "    plt.pcolor(X, Y, Z, cmap = 'inferno', shading='auto')\n",
    "    if display_gradient:\n",
    "        plt.quiver(XA, YA, U, V, color = 'white')\n",
    "\n",
    "widgets.interact(plot_field, display_gradient = widgets.ToggleButton(description='Show gradient'))"
   ]
  },
  {
   "cell_type": "markdown",
   "metadata": {},
   "source": [
    "# Rotacja"
   ]
  },
  {
   "cell_type": "code",
   "execution_count": 11,
   "metadata": {},
   "outputs": [
    {
     "data": {
      "application/vnd.jupyter.widget-view+json": {
       "model_id": "fdbdfa06aadb4edf9bfe9b11f9aaeaff",
       "version_major": 2,
       "version_minor": 0
      },
      "text/plain": [
       "interactive(children=(ToggleButton(value=False, description='Show curl'), Output()), _dom_classes=('widget-int…"
      ]
     },
     "metadata": {},
     "output_type": "display_data"
    },
    {
     "data": {
      "text/plain": [
       "<function __main__.plot_curl(display_curl)>"
      ]
     },
     "execution_count": 11,
     "metadata": {},
     "output_type": "execute_result"
    }
   ],
   "source": [
    "def field(X, Y):\n",
    "    return (Y, -X) * np.exp(-0.001*(X**2+Y**2))\n",
    "\n",
    "x = np.linspace(-5, 5, 10)\n",
    "y = np.linspace(-5, 5, 10)\n",
    "\n",
    "X, Y = np.meshgrid(x, y)\n",
    "\n",
    "U, V = field(X, Y)\n",
    "\n",
    "def curl(X, Y, field):\n",
    "    return (field(X + 0.01, Y)[1] - field(X, Y)[1]) / 0.01 - (field(X, Y + 0.01)[0] - field(X, Y)[0]) / 0.01\n",
    "\n",
    "xc = np.linspace(-5, 5, 100)\n",
    "yc = np.linspace(-5, 5, 100)\n",
    "\n",
    "XC, YC = np.meshgrid(xc, yc)\n",
    "ZC = curl(XC, YC, field)\n",
    "\n",
    "def plot_curl(display_curl):\n",
    "    plt.figure(figsize = (20, 20))\n",
    "    plt.xlim(-5, 5)\n",
    "    plt.ylim(-5, 5)\n",
    "    if display_curl:\n",
    "        plt.pcolor(XC, YC, ZC, cmap = 'inferno', shading='auto')\n",
    "    plt.quiver(X, Y, U, V)\n",
    "    \n",
    "widgets.interact(plot_curl, display_curl = widgets.ToggleButton(description='Show curl'))"
   ]
  },
  {
   "cell_type": "code",
   "execution_count": 12,
   "metadata": {},
   "outputs": [
    {
     "data": {
      "application/vnd.jupyter.widget-view+json": {
       "model_id": "7fe9286b5728451d82aad4f1b59942ab",
       "version_major": 2,
       "version_minor": 0
      },
      "text/plain": [
       "interactive(children=(ToggleButton(value=False, description='Show curl'), Output()), _dom_classes=('widget-int…"
      ]
     },
     "metadata": {},
     "output_type": "display_data"
    },
    {
     "data": {
      "text/plain": [
       "<function __main__.plot_curl(display_curl)>"
      ]
     },
     "execution_count": 12,
     "metadata": {},
     "output_type": "execute_result"
    }
   ],
   "source": [
    "def field(X, Y):\n",
    "    return (0, X**2)\n",
    "\n",
    "x = np.linspace(0, 3, 10)\n",
    "y = np.linspace(0, 3, 10)\n",
    "\n",
    "X, Y = np.meshgrid(x, y)\n",
    "\n",
    "U, V = field(X, Y)\n",
    "\n",
    "def curl(X, Y, field):\n",
    "    return (field(X + 0.01, Y)[1] - field(X, Y)[1]) / 0.01 - (field(X, Y + 0.01)[0] - field(X, Y)[0]) / 0.01\n",
    "\n",
    "xc = np.linspace(0, 3, 100)\n",
    "yc = np.linspace(0, 3, 100)\n",
    "\n",
    "XC, YC = np.meshgrid(xc, yc)\n",
    "ZC = curl(XC, YC, field)\n",
    "\n",
    "def plot_curl(display_curl):\n",
    "    plt.figure(figsize = (20, 20))\n",
    "    plt.xlim(0, 3)\n",
    "    plt.ylim(0, 3)\n",
    "    if display_curl:\n",
    "        plt.pcolor(XC, YC, ZC, cmap = 'inferno', shading='auto')\n",
    "    plt.quiver(X, Y, U, V)\n",
    "    \n",
    "widgets.interact(plot_curl, display_curl = widgets.ToggleButton(description='Show curl'))"
   ]
  }
 ],
 "metadata": {
  "kernelspec": {
   "display_name": "Python 3",
   "language": "python",
   "name": "python3"
  },
  "language_info": {
   "codemirror_mode": {
    "name": "ipython",
    "version": 3
   },
   "file_extension": ".py",
   "mimetype": "text/x-python",
   "name": "python",
   "nbconvert_exporter": "python",
   "pygments_lexer": "ipython3",
   "version": "3.8.5"
  }
 },
 "nbformat": 4,
 "nbformat_minor": 4
}
